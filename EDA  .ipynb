{
 "cells": [
  {
   "cell_type": "markdown",
   "id": "d57264fa",
   "metadata": {},
   "source": [
    "### Exploratory Data Analysis"
   ]
  },
  {
   "cell_type": "markdown",
   "id": "98b4632c",
   "metadata": {},
   "source": [
    "This case study is to get familiarized with Data manipulation using Pandas. The dataset involves records of terrorist attacks that took place around the world since 1970. Description of columns are given wherever necessary along with hints to answer the questions.\n",
    "Answer the following questions using the dataset: terror_gtd.csv"
   ]
  },
  {
   "cell_type": "markdown",
   "id": "0c6c6404",
   "metadata": {},
   "source": [
    "Which country had highest attacks since 1970? How many attacks happened in India?"
   ]
  },
  {
   "cell_type": "code",
   "execution_count": null,
   "id": "41af5806",
   "metadata": {},
   "outputs": [],
   "source": [
    "# load the packages\n",
    "import pandas as pd\n",
    "import numpy as np\n",
    "import matplotlib.pyplot as plt  # Data visualization\n",
    "import seaborn as sns             # Data visualization\n",
    "%matplotlib inline"
   ]
  },
  {
   "cell_type": "code",
   "execution_count": null,
   "id": "404e3a72",
   "metadata": {},
   "outputs": [],
   "source": [
    "#load the data\n",
    "terror=pd.read_csv(\"D://Files//terror_gtd.csv\",encoding='latin')"
   ]
  },
  {
   "cell_type": "code",
   "execution_count": null,
   "id": "e3c602fd",
   "metadata": {},
   "outputs": [],
   "source": [
    " # view 3 observations from the data"
   ]
  },
  {
   "cell_type": "code",
   "execution_count": null,
   "id": "5e9df38d",
   "metadata": {},
   "outputs": [],
   "source": [
    " # number of observations, number of variables in the data"
   ]
  },
  {
   "cell_type": "code",
   "execution_count": null,
   "id": "5e8d6fc1",
   "metadata": {},
   "outputs": [],
   "source": [
    "#Which country had highest attacks since 1970?\n"
   ]
  },
  {
   "cell_type": "code",
   "execution_count": null,
   "id": "b5fc8979",
   "metadata": {},
   "outputs": [],
   "source": [
    "# visualization\n"
   ]
  },
  {
   "cell_type": "markdown",
   "id": "2fea4d26",
   "metadata": {},
   "source": [
    "**Iraq country had highest attacks since 1970.**"
   ]
  },
  {
   "cell_type": "code",
   "execution_count": null,
   "id": "3e2533ea",
   "metadata": {},
   "outputs": [],
   "source": [
    "#How many attacks happened in India\n"
   ]
  },
  {
   "cell_type": "code",
   "execution_count": null,
   "id": "ea9efa20",
   "metadata": {},
   "outputs": [],
   "source": [
    "#How many attacks happened in India and upto 7 people were killed?\n",
    "#Hint: Use the country_txt and nkill column.\n"
   ]
  },
  {
   "cell_type": "code",
   "execution_count": null,
   "id": "3aad81b5",
   "metadata": {},
   "outputs": [],
   "source": [
    "# Extract any 4 cities and summary for attacks above\n",
    "# Hint: Use country_txt, nkill,city and summary columns\n"
   ]
  },
  {
   "cell_type": "code",
   "execution_count": null,
   "id": "260fb45b",
   "metadata": {},
   "outputs": [],
   "source": []
  },
  {
   "cell_type": "code",
   "execution_count": null,
   "id": "9b91a9df",
   "metadata": {},
   "outputs": [],
   "source": [
    "#In a single terror incident in India, find out top 3 cities by number killed\n",
    "#Hint: Use each row as a unique terror incident.\n",
    "#Use country_txt, nkill and city columns\n"
   ]
  },
  {
   "cell_type": "code",
   "execution_count": null,
   "id": "2f2b8c83",
   "metadata": {},
   "outputs": [],
   "source": [
    "###\n",
    "\n",
    "\n",
    "sns.barplot(x=cities['city'],y=cities['nkill'])\n",
    "plt.title(\"Top 3 cities by number killed\")\n",
    "plt.xlabel(\"Cities\")\n",
    "plt.ylabel(\"nkill\")\n",
    "plt.xticks(rotation=90)\n",
    "\n",
    "x=cities['city'].values\n",
    "y=cities['nkill'].values\n",
    "# adding labels/text in the bar\n",
    "def addlabels(x,y):\n",
    "    for i in range(len(x)):\n",
    "        plt.text(i,y[i]//2,y[i],ha='center')\n",
    "#calling the function to add value labels\n",
    "addlabels(x,y)"
   ]
  },
  {
   "cell_type": "code",
   "execution_count": null,
   "id": "19854179",
   "metadata": {},
   "outputs": [],
   "source": [
    "#In a single terror incident in India, find out top 5 cities by number killed and wounded\n",
    "#Hint: Use each row as a unique terror incident. Use country_txt, nkill, nwound and city columns\n",
    "#nwound : Total Number of Injured\n"
   ]
  },
  {
   "cell_type": "code",
   "execution_count": null,
   "id": "380a19f4",
   "metadata": {},
   "outputs": [],
   "source": [
    "###6. Label all the incidents where the number killed was more than 10 as severe. How many incidents were Severe?\n",
    "#Hint: Use Aggregations and manipulations using apply and map\n",
    "#You can use lambda functions as well.\n",
    "#Use the nkill column.\n",
    "#Suppose we want to label all the incidents where the number killed was more than 10 as severe. This would involve applying a function on each element of the series, map helps in doing that\n",
    "\n",
    "\n",
    "# terror['nkill_new']=terror['nkill'].map(lambda x: 'Severe' if x>10 else 'Not Severe')\n"
   ]
  },
  {
   "cell_type": "code",
   "execution_count": null,
   "id": "45196f17",
   "metadata": {},
   "outputs": [],
   "source": []
  },
  {
   "cell_type": "markdown",
   "id": "5ac0d184",
   "metadata": {},
   "source": [
    "7. How many attacks were successful that were suicide attacks? Also, how many suicide attacks were not successful?\n",
    "\n",
    "Hint: Use suicide and success columns\n",
    "\n",
    "1 = \"Yes\" The incident was a suicide attack.\n",
    "0 = \"No\" There is no indication that the incident was a suicide attack\n",
    "1 = \"Yes\" The incident was successful.\n",
    "0 = \"No\" The incident was not successf"
   ]
  },
  {
   "cell_type": "code",
   "execution_count": null,
   "id": "3ce93523",
   "metadata": {},
   "outputs": [],
   "source": [
    "terror['Success_Suicide']=terror['suicide']+terror['success']\n",
    "terror=terror.assign(success_suicide_1=terror['suicide']+terror['success'])\n",
    "terror.query('success_suicide_1==2').shape[0]"
   ]
  },
  {
   "cell_type": "code",
   "execution_count": null,
   "id": "4c0142e5",
   "metadata": {},
   "outputs": [],
   "source": [
    "terror.success_suicide_1.value_counts()"
   ]
  },
  {
   "cell_type": "code",
   "execution_count": null,
   "id": "1b71edec",
   "metadata": {},
   "outputs": [],
   "source": [
    "fig,ax=plt.subplots(1,2,figsize=(21,6))\n",
    "sns.countplot(x=\"success\",ax=ax[0],data=terror).set_title(\"success\")\n",
    "terror['suicide'].value_counts().plot.pie(ax=ax[1],autopct=\"%.1f%%\")"
   ]
  },
  {
   "cell_type": "code",
   "execution_count": null,
   "id": "18074297",
   "metadata": {},
   "outputs": [],
   "source": [
    "### Terrorist activities by region in each year \n",
    "#area plot\n"
   ]
  },
  {
   "cell_type": "code",
   "execution_count": null,
   "id": "8709cfcb",
   "metadata": {},
   "outputs": [],
   "source": [
    "# Sum of missing values in the data\n"
   ]
  },
  {
   "cell_type": "markdown",
   "id": "dc080f07",
   "metadata": {},
   "source": [
    "### summary of insights\n",
    "- **Iraq country had highest attacks since 1970**\n",
    "- **Mumbai(188.0) Jhargam (115.0), Bombay (115.0) are top 3 cities had highest number of killed attacks\"**\n",
    "- **There are 4% Severe attacks were happend.**\n",
    "- **There are missing values in the location, summary ,city nkill, nwound and state variables in the data**"
   ]
  },
  {
   "cell_type": "markdown",
   "id": "706798c8",
   "metadata": {},
   "source": [
    "#### Check for Duplicate records"
   ]
  },
  {
   "cell_type": "code",
   "execution_count": null,
   "id": "45b7f548",
   "metadata": {},
   "outputs": [],
   "source": []
  },
  {
   "cell_type": "code",
   "execution_count": null,
   "id": "8250e341",
   "metadata": {},
   "outputs": [],
   "source": []
  },
  {
   "cell_type": "code",
   "execution_count": null,
   "id": "32d21efc",
   "metadata": {},
   "outputs": [],
   "source": [
    "# drop duplicates\n"
   ]
  },
  {
   "cell_type": "markdown",
   "id": "c2bf0089",
   "metadata": {},
   "source": [
    "#### Missing value treatment"
   ]
  },
  {
   "cell_type": "markdown",
   "id": "b1e4b4d9",
   "metadata": {},
   "source": [
    "- <5%--> remove only missing observation\n",
    "- lies between 5% to 30%--> do imputation (mean/median/mode/unknown category)--(mean/median-contniuous                                                    variables, mode/unknown-categorical)\n",
    "- >30% --> drop the column/variable"
   ]
  },
  {
   "cell_type": "code",
   "execution_count": null,
   "id": "0fcc9652",
   "metadata": {},
   "outputs": [],
   "source": [
    "## replace missing values of 'nkill' variable with median value\n",
    "#terror['nkill']=terror['nkill'].fillna(1)\n"
   ]
  },
  {
   "cell_type": "code",
   "execution_count": null,
   "id": "3ec212f5",
   "metadata": {},
   "outputs": [],
   "source": [
    "# find mode value\n"
   ]
  },
  {
   "cell_type": "code",
   "execution_count": null,
   "id": "4d35444b",
   "metadata": {},
   "outputs": [],
   "source": [
    "# replace missing value of provstate variable by mode value\n",
    "#terror['provstate']=terror['provstate'].fillna('Baghdad')\n"
   ]
  },
  {
   "cell_type": "code",
   "execution_count": null,
   "id": "3749c2b3",
   "metadata": {},
   "outputs": [],
   "source": [
    "##na_values=['Missing','?']"
   ]
  },
  {
   "cell_type": "code",
   "execution_count": null,
   "id": "5c48bfa2",
   "metadata": {},
   "outputs": [],
   "source": [
    "# drop the column/variable --> location\n"
   ]
  },
  {
   "cell_type": "code",
   "execution_count": null,
   "id": "d983b63b",
   "metadata": {},
   "outputs": [],
   "source": [
    "### removing only missing observations(<5%)\n"
   ]
  },
  {
   "cell_type": "markdown",
   "id": "19e92d0c",
   "metadata": {},
   "source": [
    "#### Encoding Technique\n",
    "- converting categorical variables into numerical/factor"
   ]
  },
  {
   "cell_type": "code",
   "execution_count": null,
   "id": "85ce24f9",
   "metadata": {},
   "outputs": [],
   "source": [
    "# one hot encoding --> create dummy variables--> increases dimensionality\n",
    "# label encoding--> convert into factor variable.\n",
    "# if less categories(not more than 10) are in the variable/variable is ordinal--> label encoder"
   ]
  },
  {
   "cell_type": "code",
   "execution_count": null,
   "id": "9fb251f1",
   "metadata": {},
   "outputs": [],
   "source": [
    "### one hot encoding:\n",
    "#terror=pd.get_dummies(terror)"
   ]
  },
  {
   "cell_type": "code",
   "execution_count": null,
   "id": "613e2a7d",
   "metadata": {},
   "outputs": [],
   "source": [
    "###Laebl encoder\n"
   ]
  },
  {
   "cell_type": "code",
   "execution_count": null,
   "id": "5447aa22",
   "metadata": {},
   "outputs": [],
   "source": []
  },
  {
   "cell_type": "code",
   "execution_count": null,
   "id": "670e6f68",
   "metadata": {},
   "outputs": [],
   "source": []
  },
  {
   "cell_type": "code",
   "execution_count": null,
   "id": "a762b773",
   "metadata": {},
   "outputs": [],
   "source": []
  },
  {
   "cell_type": "code",
   "execution_count": null,
   "id": "8341cb2f",
   "metadata": {},
   "outputs": [],
   "source": [
    "-------------------------------------------------- End --------------------------------------------------------"
   ]
  }
 ],
 "metadata": {
  "kernelspec": {
   "display_name": "Python 3 (ipykernel)",
   "language": "python",
   "name": "python3"
  },
  "language_info": {
   "codemirror_mode": {
    "name": "ipython",
    "version": 3
   },
   "file_extension": ".py",
   "mimetype": "text/x-python",
   "name": "python",
   "nbconvert_exporter": "python",
   "pygments_lexer": "ipython3",
   "version": "3.11.5"
  }
 },
 "nbformat": 4,
 "nbformat_minor": 5
}
